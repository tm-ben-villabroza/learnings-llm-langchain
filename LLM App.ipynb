{
 "cells": [
  {
   "cell_type": "code",
   "execution_count": 1,
   "id": "fb7198f3",
   "metadata": {},
   "outputs": [],
   "source": [
    "\"\"\"Infra Setup\"\"\"\n",
    "\n",
    "# Step 1: If you already have an existing Pinecode DB that is unrelated to this notebook\n",
    "#  and if you are on a trial version with Pinecode DB, \n",
    "# delete your existing DB (if you don't have an existing DB, don't mind this step)\n",
    "\n",
    "# Step 2: Do you already have an existing Pinecone DB for this notebook?\n",
    "has_existing_pinecone_db = True\n",
    "\n",
    "# Step 3: have you already uploaded your embeddings to the Pinecode DB?\n",
    "has_uploaded_embeddings = False"
   ]
  },
  {
   "cell_type": "code",
   "execution_count": 2,
   "id": "699777cc",
   "metadata": {},
   "outputs": [],
   "source": [
    "\"\"\"Data Setup\"\"\"\n",
    "from langchain.document_loaders import TextLoader\n",
    "\n",
    "# Step 4: what is your query?\n",
    "user_query = \"What SCPs are difficult to destroy?\"\n",
    "\n",
    "# Step 5: what is your dataset/prompt?\n",
    "folder_name = \"scp\"\n",
    "content = TextLoader(f'datasets/{folder_name}/content.txt').load()\n",
    "prompt = TextLoader(f'datasets/{folder_name}/prompt.txt').load()\n",
    "\n",
    "page_content = content[0].page_content\n",
    "prompt_content = prompt[0].page_content"
   ]
  },
  {
   "cell_type": "code",
   "execution_count": 3,
   "id": "8b7b62a2",
   "metadata": {},
   "outputs": [],
   "source": [
    "# Get chunk size\n",
    "\n",
    "chunk_size_map = {\n",
    "    \"scp\": 100,\n",
    "    \"PH_law_criminal\": 250,\n",
    "    \"ben_tech_resume\": 100,\n",
    "}\n",
    "\n",
    "content_chunk_size = chunk_size_map[folder_name]"
   ]
  },
  {
   "cell_type": "code",
   "execution_count": 4,
   "id": "0b0ca3d6",
   "metadata": {},
   "outputs": [
    {
     "data": {
      "text/plain": [
       "True"
      ]
     },
     "execution_count": 4,
     "metadata": {},
     "output_type": "execute_result"
    }
   ],
   "source": [
    "# Load environment variables\n",
    "\n",
    "from dotenv import load_dotenv,find_dotenv\n",
    "load_dotenv(find_dotenv())"
   ]
  },
  {
   "cell_type": "code",
   "execution_count": 5,
   "id": "7549482b",
   "metadata": {},
   "outputs": [],
   "source": [
    "# import schema for chat messages and ChatOpenAI in order to query chatmodels GPT-3.5-turbo or GPT-4\n",
    "\n",
    "from langchain.schema import (\n",
    "    AIMessage,\n",
    "    HumanMessage,\n",
    "    SystemMessage\n",
    ")\n",
    "from langchain.chat_models import ChatOpenAI"
   ]
  },
  {
   "cell_type": "code",
   "execution_count": 6,
   "id": "fb956909",
   "metadata": {},
   "outputs": [],
   "source": [
    "# Import utility for splitting up texts and split up the explanation given above into document chunks\n",
    "\n",
    "from langchain.text_splitter import RecursiveCharacterTextSplitter\n",
    "\n",
    "text_splitter = RecursiveCharacterTextSplitter(\n",
    "    chunk_size = content_chunk_size,\n",
    "    chunk_overlap  = 0,\n",
    ")\n",
    "\n",
    "texts = text_splitter.create_documents([page_content])"
   ]
  },
  {
   "cell_type": "code",
   "execution_count": 7,
   "id": "759e2aa7",
   "metadata": {},
   "outputs": [
    {
     "data": {
      "text/plain": [
       "'SCP-682, also known as \"The Hard-to-Destroy Reptile,\" is a highly dangerous and resilient creature'"
      ]
     },
     "execution_count": 7,
     "metadata": {},
     "output_type": "execute_result"
    }
   ],
   "source": [
    "# Individual text chunks can be accessed with \"page_content\"\n",
    "\n",
    "texts[0].page_content"
   ]
  },
  {
   "cell_type": "code",
   "execution_count": 8,
   "id": "1c94a227",
   "metadata": {},
   "outputs": [],
   "source": [
    "\n",
    "# Import and instantiate OpenAI embeddings\n",
    "\n",
    "from langchain.embeddings import OpenAIEmbeddings\n",
    "\n",
    "### wont' work\n",
    "# embeddings = OpenAIEmbeddings(model_name=\"ada\")\n",
    "\n",
    "embeddings = OpenAIEmbeddings()"
   ]
  },
  {
   "cell_type": "code",
   "execution_count": 9,
   "id": "6155121b",
   "metadata": {},
   "outputs": [
    {
     "name": "stderr",
     "output_type": "stream",
     "text": [
      "/home/thislexic/tm-learnings/temasek-delphi/langchain/venv/lib/python3.10/site-packages/pinecone/index.py:4: TqdmExperimentalWarning: Using `tqdm.autonotebook.tqdm` in notebook mode. Use `tqdm.tqdm` instead to force console mode (e.g. in jupyter console)\n",
      "  from tqdm.autonotebook import tqdm\n"
     ]
    }
   ],
   "source": [
    "\n",
    "# Import and initialize Pinecone client\n",
    "\n",
    "import os\n",
    "import pinecone\n",
    "from langchain.vectorstores import Pinecone\n",
    "\n",
    "\n",
    "pinecone.init(\n",
    "    api_key=os.getenv('PINECONE_API_KEY'),  \n",
    "    environment=os.getenv('PINECONE_ENV')  \n",
    ")"
   ]
  },
  {
   "cell_type": "code",
   "execution_count": 10,
   "id": "c9beee73",
   "metadata": {},
   "outputs": [],
   "source": [
    "# Create an index in Pinecone\n",
    "\n",
    "index_name = \"benv-llm-learnings\"\n",
    "\n",
    "### if this doesn't work, create it manually\n",
    "if not has_existing_pinecone_db:\n",
    "    pinecone.create_index(index_name, dimension=1536,\n",
    "                          metric=\"cosine\", pods=1, pod_type=\"p1.x1\")"
   ]
  },
  {
   "cell_type": "code",
   "execution_count": 11,
   "id": "b2db1204",
   "metadata": {},
   "outputs": [],
   "source": [
    "# Upload vectors to Pinecone\n",
    "\n",
    "### run this if you haven't already uploaded your embeddings to Pinecone\n",
    "\n",
    "if not has_uploaded_embeddings:\n",
    "    search = Pinecone.from_documents(texts, embeddings, index_name=index_name)"
   ]
  },
  {
   "cell_type": "code",
   "execution_count": 12,
   "id": "3170e3c2",
   "metadata": {},
   "outputs": [],
   "source": [
    "# Get the vector store (Pinecone)\n",
    "\n",
    "### run this if you have already uploaded your embeddings to Pinecone\n",
    "\n",
    "if has_uploaded_embeddings:\n",
    "    index = pinecone.Index(index_name)\n",
    "    search = Pinecone(index, embeddings.embed_query, \"text\")"
   ]
  },
  {
   "cell_type": "code",
   "execution_count": 13,
   "id": "e648a80b",
   "metadata": {},
   "outputs": [
    {
     "data": {
      "text/plain": [
       "[Document(page_content='of containment, SCP-682 is considered one of the most challenging anomalies to manage.', metadata={}),\n",
       " Document(page_content='of containment, SCP-682 is considered one of the most challenging anomalies to manage.', metadata={}),\n",
       " Document(page_content='of containment, SCP-682 is considered one of the most challenging anomalies to manage.', metadata={}),\n",
       " Document(page_content='of containment, SCP-682 is considered one of the most challenging anomalies to manage.', metadata={})]"
      ]
     },
     "execution_count": 13,
     "metadata": {},
     "output_type": "execute_result"
    }
   ],
   "source": [
    "# Do a simple vector similarity search\n",
    "\n",
    "user_query = user_query\n",
    "\n",
    "query = user_query\n",
    "results = search.similarity_search(query)\n",
    "results"
   ]
  },
  {
   "cell_type": "code",
   "execution_count": 14,
   "id": "3db3f4ea",
   "metadata": {},
   "outputs": [
    {
     "data": {
      "text/plain": [
       "'of containment, SCP-682 is considered one of the most challenging anomalies to manage., of containment, SCP-682 is considered one of the most challenging anomalies to manage., of containment, SCP-682 is considered one of the most challenging anomalies to manage., of containment, SCP-682 is considered one of the most challenging anomalies to manage.'"
      ]
     },
     "execution_count": 14,
     "metadata": {},
     "output_type": "execute_result"
    }
   ],
   "source": [
    "documents = ', '.join([result.page_content for result in results])\n",
    "documents"
   ]
  },
  {
   "cell_type": "code",
   "execution_count": 15,
   "id": "42828e59",
   "metadata": {},
   "outputs": [],
   "source": [
    "# Setup ChatGPT\n",
    "from langchain.chat_models import ChatOpenAI\n",
    "\n",
    "chat = ChatOpenAI(model_name=\"gpt-3.5-turbo\",temperature=0.3)"
   ]
  },
  {
   "cell_type": "code",
   "execution_count": 16,
   "id": "29582529",
   "metadata": {},
   "outputs": [],
   "source": [
    "system_message = prompt_content + documents\n",
    "\n",
    "messages = [\n",
    "    SystemMessage(content=system_message),\n",
    "    HumanMessage(content=user_query)\n",
    "]\n",
    "\n",
    "## Costs Money\n",
    "response=chat(messages)\n",
    "content=response.content"
   ]
  },
  {
   "cell_type": "code",
   "execution_count": 17,
   "id": "63aa8281",
   "metadata": {},
   "outputs": [
    {
     "name": "stdout",
     "output_type": "stream",
     "text": [
      "Question: \n",
      "What SCPs are difficult to destroy?\n",
      "\n",
      "Answer: \n",
      "One SCP that is considered difficult to destroy is SCP-682.\n",
      "\n",
      "Basis: \n",
      "of containment, SCP-682 is considered one of the most challenging anomalies to manage., of containment, SCP-682 is considered one of the most challenging anomalies to manage., of containment, SCP-682 is considered one of the most challenging anomalies to manage., of containment, SCP-682 is considered one of the most challenging anomalies to manage.\n",
      "\n"
     ]
    }
   ],
   "source": [
    "print(f\"Question: \\n{user_query}\", end=\"\\n\\n\")\n",
    "print(f\"Answer: \\n{content}\", end=\"\\n\\n\")\n",
    "print(f\"Basis: \\n{documents}\", end=\"\\n\\n\")"
   ]
  },
  {
   "cell_type": "code",
   "execution_count": null,
   "id": "6b9a7ad8",
   "metadata": {},
   "outputs": [],
   "source": []
  }
 ],
 "metadata": {
  "kernelspec": {
   "display_name": "Python 3 (ipykernel)",
   "language": "python",
   "name": "python3"
  },
  "language_info": {
   "codemirror_mode": {
    "name": "ipython",
    "version": 3
   },
   "file_extension": ".py",
   "mimetype": "text/x-python",
   "name": "python",
   "nbconvert_exporter": "python",
   "pygments_lexer": "ipython3",
   "version": "3.10.6"
  }
 },
 "nbformat": 4,
 "nbformat_minor": 5
}
